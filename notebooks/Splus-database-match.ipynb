{
 "cells": [
  {
   "cell_type": "markdown",
   "id": "3aac4331",
   "metadata": {},
   "source": [
    "Query to get some parameters of a list of objects in the SPLUS database"
   ]
  },
  {
   "cell_type": "code",
   "execution_count": 1,
   "id": "7bbd7069-74bc-4c63-928c-270cf4a1a01d",
   "metadata": {},
   "outputs": [],
   "source": [
    "import splusdata\n",
    "import getpass\n",
    "import pandas as pd\n",
    "from astropy.table import Table, vstack\n",
    "import numpy as np"
   ]
  },
  {
   "cell_type": "code",
   "execution_count": 3,
   "id": "329f71fd-6cc4-472d-b0c5-db7f387251b3",
   "metadata": {},
   "outputs": [
    {
     "name": "stdout",
     "output_type": "stream",
     "text": [
      "Login: Luis\n",
      "Password: ········\n",
      "You have access to internal data\n"
     ]
    }
   ],
   "source": [
    "# Connecting with SPLUS database\n",
    "username = input(prompt=\"Login: \")\n",
    "password = getpass.getpass(\"Password: \")\n",
    "conn = splusdata.connect(username, password)"
   ]
  },
  {
   "cell_type": "code",
   "execution_count": 5,
   "id": "870cbf1c-ad26-4a9d-a412-0620e4c80f55",
   "metadata": {},
   "outputs": [
    {
     "name": "stdout",
     "output_type": "stream",
     "text": [
      "Number of objects: 199\n",
      "Index(['ID', 'RA', 'DEC', 'CLASS'], dtype='object')\n"
     ]
    }
   ],
   "source": [
    "df =  pd.read_csv(\"../LSBs_found_23Fornax_prob0.8-juliana.csv\")\n",
    "print(\"Number of objects:\", len(df))\n",
    "print(df.columns)"
   ]
  },
  {
   "cell_type": "code",
   "execution_count": 6,
   "id": "6a064670",
   "metadata": {},
   "outputs": [],
   "source": [
    "Query = f\"\"\"SELECT detection.Field, detection.ID, detection.RA, detection.DEC, detection.FWHM, detection.ISOarea, detection.KRON_RADIUS, \n",
    "            detection.MU_MAX, detection.nDet_PStotal, detection.PhotoFlagDet, u.U_auto, J0378.J0378_auto, J0395.J0395_auto,\n",
    "            J0410.J0410_auto, J0430.J0430_auto, g.G_auto, J0515.J0515_auto, r.R_auto, J0660.J0660_auto, i.I_auto, \n",
    "            J0861.J0861_auto, z.Z_auto, u.e_U_auto, J0378.e_J0378_auto, J0395.e_J0395_auto, J0410.e_J0410_auto, J0430.e_J0430_auto, \n",
    "            g.e_G_auto, J0515.e_J0515_auto, r.e_R_auto, J0660.e_J0660_auto, i.e_I_auto, J0861.e_J0861_auto, z.e_Z_auto \n",
    "            FROM TAP_UPLOAD.upload as tap LEFT OUTER JOIN idr3.detection_image as detection ON tap.ID= detection.ID LEFT OUTER JOIN idr3.u_band as u ON tap.ID=u.ID \n",
    "            LEFT OUTER JOIN idr3.J0378_band as J0378 ON tap.ID=J0378.ID LEFT OUTER JOIN idr3.J0395_band as J0395 ON tap.ID=J0395.ID\n",
    "            LEFT OUTER JOIN idr3.J0410_band as J0410 ON tap.ID=J0410.ID LEFT OUTER JOIN idr3.J0430_band as J0430 ON tap.ID=J0430.ID LEFT OUTER JOIN idr3.g_band as g ON tap.ID=g.ID \n",
    "            LEFT OUTER JOIN idr3.J0515_band as J0515 ON tap.ID=J0515.ID LEFT OUTER JOIN idr3.r_band as r ON tap.ID=r.ID LEFT OUTER JOIN idr3.J0660_band as J0660 ON tap.ID=J0660.ID \n",
    "            LEFT OUTER JOIN idr3.i_band as i ON tap.ID=i.ID LEFT OUTER JOIN idr3.J0861_band as J0861 ON tap.ID=J0861.ID LEFT OUTER JOIN idr3.z_band as z ON tap.ID=z.ID\"\"\"\n"
   ]
  },
  {
   "cell_type": "code",
   "execution_count": 7,
   "id": "b6f1c2e8",
   "metadata": {},
   "outputs": [
    {
     "name": "stdout",
     "output_type": "stream",
     "text": [
      "finished\n"
     ]
    }
   ],
   "source": [
    "results = conn.query(Query, df)"
   ]
  },
  {
   "cell_type": "code",
   "execution_count": 8,
   "id": "c8f62711",
   "metadata": {},
   "outputs": [
    {
     "data": {
      "text/plain": [
       "199"
      ]
     },
     "execution_count": 8,
     "metadata": {},
     "output_type": "execute_result"
    }
   ],
   "source": [
    "len(results)"
   ]
  },
  {
   "cell_type": "code",
   "execution_count": 9,
   "id": "8277174c",
   "metadata": {},
   "outputs": [],
   "source": [
    "#Converting the astropy table into pandas and saving\n",
    "df_result = results.to_pandas()\n",
    "df_result.to_csv(\"LSBs_found_23Fornax_prob08-juliana_allinf.csv\")"
   ]
  },
  {
   "cell_type": "code",
   "execution_count": null,
   "id": "c029ebaa",
   "metadata": {},
   "outputs": [],
   "source": []
  }
 ],
 "metadata": {
  "kernelspec": {
   "display_name": "Python 3",
   "language": "python",
   "name": "python3"
  },
  "language_info": {
   "codemirror_mode": {
    "name": "ipython",
    "version": 3
   },
   "file_extension": ".py",
   "mimetype": "text/x-python",
   "name": "python",
   "nbconvert_exporter": "python",
   "pygments_lexer": "ipython3",
   "version": "3.8.5"
  }
 },
 "nbformat": 4,
 "nbformat_minor": 5
}
